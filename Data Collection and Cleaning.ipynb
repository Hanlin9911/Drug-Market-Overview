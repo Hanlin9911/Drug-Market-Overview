{
 "cells": [
  {
   "cell_type": "markdown",
   "metadata": {},
   "source": [
    "# Data Collection\n",
    "The data were scraped using [Health Canada - Drug Product Database (DPD) API](https://health-products.canada.ca/api/documentation/dpd-documentation-en.html#a4.4). A total of 4 dataframes - `Drug Product`, `Current Status`, `Schedule` and `Therapeutic Class` - will be used for this data analysis project. The terminology definitions can be found on [Health Canada Drug Product Database Terminology](https://www.canada.ca/en/health-canada/services/drugs-health-products/drug-products/drug-product-database/terminology.html) to better understand the dataframes. \n",
    "\n",
    "To better interpret `tc_atc_number` (Anatomical Therapeutic Chemical Number) from `Therapeutic Class`. ATC group name to third level (first 3 digit) were scraped from [Norweguab Institute of Public Heath](https://atcddd.fhi.no/atc_ddd_index/)."
   ]
  },
  {
   "cell_type": "code",
   "execution_count": 1,
   "metadata": {},
   "outputs": [
    {
     "name": "stderr",
     "output_type": "stream",
     "text": [
      "C:\\Users\\yelin\\AppData\\Roaming\\Python\\Python39\\site-packages\\pandas\\core\\computation\\expressions.py:21: UserWarning: Pandas requires version '2.8.4' or newer of 'numexpr' (version '2.8.3' currently installed).\n",
      "  from pandas.core.computation.check import NUMEXPR_INSTALLED\n",
      "C:\\Users\\yelin\\AppData\\Roaming\\Python\\Python39\\site-packages\\pandas\\core\\arrays\\masked.py:60: UserWarning: Pandas requires version '1.3.6' or newer of 'bottleneck' (version '1.3.5' currently installed).\n",
      "  from pandas.core import (\n"
     ]
    }
   ],
   "source": [
    "# Standard imports\n",
    "import pandas as pd\n",
    "import numpy as np\n",
    "\n",
    "# For web scraping\n",
    "import requests\n",
    "from bs4 import BeautifulSoup\n",
    "\n",
    "# Visualziation\n",
    "import matplotlib.pyplot as plt\n",
    "import seaborn as sns"
   ]
  },
  {
   "cell_type": "code",
   "execution_count": 2,
   "metadata": {},
   "outputs": [
    {
     "data": {
      "text/html": [
       "<div>\n",
       "<style scoped>\n",
       "    .dataframe tbody tr th:only-of-type {\n",
       "        vertical-align: middle;\n",
       "    }\n",
       "\n",
       "    .dataframe tbody tr th {\n",
       "        vertical-align: top;\n",
       "    }\n",
       "\n",
       "    .dataframe thead th {\n",
       "        text-align: right;\n",
       "    }\n",
       "</style>\n",
       "<table border=\"1\" class=\"dataframe\">\n",
       "  <thead>\n",
       "    <tr style=\"text-align: right;\">\n",
       "      <th></th>\n",
       "      <th>drug_code</th>\n",
       "      <th>class_name</th>\n",
       "      <th>drug_identification_number</th>\n",
       "      <th>brand_name</th>\n",
       "      <th>descriptor</th>\n",
       "      <th>number_of_ais</th>\n",
       "      <th>ai_group_no</th>\n",
       "      <th>company_name</th>\n",
       "      <th>last_update_date</th>\n",
       "    </tr>\n",
       "  </thead>\n",
       "  <tbody>\n",
       "    <tr>\n",
       "      <th>2049</th>\n",
       "      <td>2037</td>\n",
       "      <td>Human</td>\n",
       "      <td>00313580</td>\n",
       "      <td>DIAZEPAM 5 TAB</td>\n",
       "      <td></td>\n",
       "      <td>1</td>\n",
       "      <td>0103614001</td>\n",
       "      <td>PRO DOC LIMITEE</td>\n",
       "      <td>2017-12-20</td>\n",
       "    </tr>\n",
       "  </tbody>\n",
       "</table>\n",
       "</div>"
      ],
      "text/plain": [
       "      drug_code class_name drug_identification_number      brand_name  \\\n",
       "2049       2037      Human                   00313580  DIAZEPAM 5 TAB   \n",
       "\n",
       "     descriptor number_of_ais ai_group_no     company_name last_update_date  \n",
       "2049                        1  0103614001  PRO DOC LIMITEE       2017-12-20  "
      ]
     },
     "execution_count": 2,
     "metadata": {},
     "output_type": "execute_result"
    }
   ],
   "source": [
    "# Scrape Drug Product\n",
    "url = 'https://health-products.canada.ca/api/drug/drugproduct/?lang=en&type=json'\n",
    "res = requests.get(url)\n",
    "drug_product = pd.DataFrame(res.json())\n",
    "drug_product[drug_product['drug_code']==2037]\n",
    "\n",
    "# drug_product.to_csv('Drug Product.csv')"
   ]
  },
  {
   "cell_type": "code",
   "execution_count": 3,
   "metadata": {},
   "outputs": [
    {
     "data": {
      "text/html": [
       "<div>\n",
       "<style scoped>\n",
       "    .dataframe tbody tr th:only-of-type {\n",
       "        vertical-align: middle;\n",
       "    }\n",
       "\n",
       "    .dataframe tbody tr th {\n",
       "        vertical-align: top;\n",
       "    }\n",
       "\n",
       "    .dataframe thead th {\n",
       "        text-align: right;\n",
       "    }\n",
       "</style>\n",
       "<table border=\"1\" class=\"dataframe\">\n",
       "  <thead>\n",
       "    <tr style=\"text-align: right;\">\n",
       "      <th></th>\n",
       "      <th>drug_code</th>\n",
       "      <th>status</th>\n",
       "      <th>history_date</th>\n",
       "      <th>original_market_date</th>\n",
       "      <th>external_status_code</th>\n",
       "      <th>expiration_date</th>\n",
       "      <th>lot_number</th>\n",
       "    </tr>\n",
       "  </thead>\n",
       "  <tbody>\n",
       "    <tr>\n",
       "      <th>18412</th>\n",
       "      <td>2037</td>\n",
       "      <td>Cancelled Post Market</td>\n",
       "      <td>2017-05-05</td>\n",
       "      <td>1974-12-31</td>\n",
       "      <td>4</td>\n",
       "      <td>2020-02-29</td>\n",
       "      <td>15-0150</td>\n",
       "    </tr>\n",
       "  </tbody>\n",
       "</table>\n",
       "</div>"
      ],
      "text/plain": [
       "       drug_code                 status history_date original_market_date  \\\n",
       "18412       2037  Cancelled Post Market   2017-05-05           1974-12-31   \n",
       "\n",
       "       external_status_code expiration_date lot_number  \n",
       "18412                     4      2020-02-29    15-0150  "
      ]
     },
     "execution_count": 3,
     "metadata": {},
     "output_type": "execute_result"
    }
   ],
   "source": [
    "# Scraping Status\n",
    "url = 'https://health-products.canada.ca/api/drug/status/?lang=en&type=json'\n",
    "res = requests.get(url)\n",
    "drug_status= pd.DataFrame(res.json())\n",
    "drug_status[drug_status['drug_code']==2037]\n",
    "\n",
    "# drug_status.to_csv('Drug Status.csv')"
   ]
  },
  {
   "cell_type": "code",
   "execution_count": 4,
   "metadata": {},
   "outputs": [
    {
     "data": {
      "text/html": [
       "<div>\n",
       "<style scoped>\n",
       "    .dataframe tbody tr th:only-of-type {\n",
       "        vertical-align: middle;\n",
       "    }\n",
       "\n",
       "    .dataframe tbody tr th {\n",
       "        vertical-align: top;\n",
       "    }\n",
       "\n",
       "    .dataframe thead th {\n",
       "        text-align: right;\n",
       "    }\n",
       "</style>\n",
       "<table border=\"1\" class=\"dataframe\">\n",
       "  <thead>\n",
       "    <tr style=\"text-align: right;\">\n",
       "      <th></th>\n",
       "      <th>drug_code</th>\n",
       "      <th>schedule_name</th>\n",
       "    </tr>\n",
       "  </thead>\n",
       "  <tbody>\n",
       "    <tr>\n",
       "      <th>37673</th>\n",
       "      <td>2037</td>\n",
       "      <td>Targeted (CDSA IV)</td>\n",
       "    </tr>\n",
       "  </tbody>\n",
       "</table>\n",
       "</div>"
      ],
      "text/plain": [
       "       drug_code       schedule_name\n",
       "37673       2037  Targeted (CDSA IV)"
      ]
     },
     "execution_count": 4,
     "metadata": {},
     "output_type": "execute_result"
    }
   ],
   "source": [
    "# Scrape Drug Schedule\n",
    "url = 'https://health-products.canada.ca/api/drug/schedule/?lang=en&type=json'\n",
    "res = requests.get(url)\n",
    "drug_schedule = pd.DataFrame(res.json())\n",
    "drug_schedule[drug_schedule['drug_code'] == 2037]\n",
    "\n",
    "# drug_schedule.to_csv('Drug Schedule.csv')"
   ]
  },
  {
   "cell_type": "code",
   "execution_count": 5,
   "metadata": {},
   "outputs": [
    {
     "data": {
      "text/html": [
       "<div>\n",
       "<style scoped>\n",
       "    .dataframe tbody tr th:only-of-type {\n",
       "        vertical-align: middle;\n",
       "    }\n",
       "\n",
       "    .dataframe tbody tr th {\n",
       "        vertical-align: top;\n",
       "    }\n",
       "\n",
       "    .dataframe thead th {\n",
       "        text-align: right;\n",
       "    }\n",
       "</style>\n",
       "<table border=\"1\" class=\"dataframe\">\n",
       "  <thead>\n",
       "    <tr style=\"text-align: right;\">\n",
       "      <th></th>\n",
       "      <th>drug_code</th>\n",
       "      <th>tc_atc_number</th>\n",
       "      <th>tc_atc</th>\n",
       "      <th>tc_ahfs_number</th>\n",
       "      <th>tc_ahfs</th>\n",
       "    </tr>\n",
       "  </thead>\n",
       "  <tbody>\n",
       "    <tr>\n",
       "      <th>4633</th>\n",
       "      <td>2037</td>\n",
       "      <td>N05BA01</td>\n",
       "      <td>DIAZEPAM</td>\n",
       "      <td></td>\n",
       "      <td></td>\n",
       "    </tr>\n",
       "  </tbody>\n",
       "</table>\n",
       "</div>"
      ],
      "text/plain": [
       "      drug_code tc_atc_number    tc_atc tc_ahfs_number tc_ahfs\n",
       "4633       2037       N05BA01  DIAZEPAM                       "
      ]
     },
     "execution_count": 5,
     "metadata": {},
     "output_type": "execute_result"
    }
   ],
   "source": [
    "# Scraping Therapeutic Class\n",
    "url = 'https://health-products.canada.ca/api/drug/therapeuticclass/?lang=en&type=json'\n",
    "res = requests.get(url)\n",
    "drug_atc = pd.DataFrame(res.json())\n",
    "drug_atc[drug_atc['drug_code']==2037]\n",
    "\n",
    "# drug_atc.to_csv('Drug Therapeutic Class.csv')"
   ]
  },
  {
   "cell_type": "code",
   "execution_count": 6,
   "metadata": {},
   "outputs": [
    {
     "data": {
      "text/html": [
       "<div>\n",
       "<style scoped>\n",
       "    .dataframe tbody tr th:only-of-type {\n",
       "        vertical-align: middle;\n",
       "    }\n",
       "\n",
       "    .dataframe tbody tr th {\n",
       "        vertical-align: top;\n",
       "    }\n",
       "\n",
       "    .dataframe thead th {\n",
       "        text-align: right;\n",
       "    }\n",
       "</style>\n",
       "<table border=\"1\" class=\"dataframe\">\n",
       "  <thead>\n",
       "    <tr style=\"text-align: right;\">\n",
       "      <th></th>\n",
       "      <th>Code</th>\n",
       "      <th>Description</th>\n",
       "    </tr>\n",
       "  </thead>\n",
       "  <tbody>\n",
       "    <tr>\n",
       "      <th>0</th>\n",
       "      <td>A</td>\n",
       "      <td>ALIMENTARY TRACT AND METABOLISM</td>\n",
       "    </tr>\n",
       "    <tr>\n",
       "      <th>17</th>\n",
       "      <td>B</td>\n",
       "      <td>BLOOD AND BLOOD FORMING ORGANS</td>\n",
       "    </tr>\n",
       "    <tr>\n",
       "      <th>23</th>\n",
       "      <td>C</td>\n",
       "      <td>CARDIOVASCULAR SYSTEM</td>\n",
       "    </tr>\n",
       "    <tr>\n",
       "      <th>33</th>\n",
       "      <td>D</td>\n",
       "      <td>DERMATOLOGICALS</td>\n",
       "    </tr>\n",
       "    <tr>\n",
       "      <th>45</th>\n",
       "      <td>G</td>\n",
       "      <td>GENITO URINARY SYSTEM AND SEX HORMONES</td>\n",
       "    </tr>\n",
       "    <tr>\n",
       "      <th>50</th>\n",
       "      <td>H</td>\n",
       "      <td>SYSTEMIC HORMONAL PREPARATIONS, EXCL. SEX HORM...</td>\n",
       "    </tr>\n",
       "    <tr>\n",
       "      <th>56</th>\n",
       "      <td>J</td>\n",
       "      <td>ANTIINFECTIVES FOR SYSTEMIC USE</td>\n",
       "    </tr>\n",
       "    <tr>\n",
       "      <th>63</th>\n",
       "      <td>L</td>\n",
       "      <td>ANTINEOPLASTIC AND IMMUNOMODULATING AGENTS</td>\n",
       "    </tr>\n",
       "    <tr>\n",
       "      <th>68</th>\n",
       "      <td>M</td>\n",
       "      <td>MUSCULO-SKELETAL SYSTEM</td>\n",
       "    </tr>\n",
       "    <tr>\n",
       "      <th>75</th>\n",
       "      <td>N</td>\n",
       "      <td>NERVOUS SYSTEM</td>\n",
       "    </tr>\n",
       "    <tr>\n",
       "      <th>83</th>\n",
       "      <td>P</td>\n",
       "      <td>ANTIPARASITIC PRODUCTS, INSECTICIDES AND REPEL...</td>\n",
       "    </tr>\n",
       "    <tr>\n",
       "      <th>87</th>\n",
       "      <td>R</td>\n",
       "      <td>RESPIRATORY SYSTEM</td>\n",
       "    </tr>\n",
       "    <tr>\n",
       "      <th>94</th>\n",
       "      <td>S</td>\n",
       "      <td>SENSORY ORGANS</td>\n",
       "    </tr>\n",
       "    <tr>\n",
       "      <th>98</th>\n",
       "      <td>V</td>\n",
       "      <td>VARIOUS</td>\n",
       "    </tr>\n",
       "  </tbody>\n",
       "</table>\n",
       "</div>"
      ],
      "text/plain": [
       "   Code                                        Description\n",
       "0     A                    ALIMENTARY TRACT AND METABOLISM\n",
       "17    B                     BLOOD AND BLOOD FORMING ORGANS\n",
       "23    C                              CARDIOVASCULAR SYSTEM\n",
       "33    D                                    DERMATOLOGICALS\n",
       "45    G             GENITO URINARY SYSTEM AND SEX HORMONES\n",
       "50    H  SYSTEMIC HORMONAL PREPARATIONS, EXCL. SEX HORM...\n",
       "56    J                    ANTIINFECTIVES FOR SYSTEMIC USE\n",
       "63    L         ANTINEOPLASTIC AND IMMUNOMODULATING AGENTS\n",
       "68    M                            MUSCULO-SKELETAL SYSTEM\n",
       "75    N                                     NERVOUS SYSTEM\n",
       "83    P  ANTIPARASITIC PRODUCTS, INSECTICIDES AND REPEL...\n",
       "87    R                                 RESPIRATORY SYSTEM\n",
       "94    S                                     SENSORY ORGANS\n",
       "98    V                                            VARIOUS"
      ]
     },
     "execution_count": 6,
     "metadata": {},
     "output_type": "execute_result"
    }
   ],
   "source": [
    "# Scraping atc name\n",
    "def scraping(url):\n",
    "    res = requests.get(url)\n",
    "    soup = BeautifulSoup(res.content, 'html.parser')\n",
    "    items = soup.select('#content_padding')[0].find_all('a', href=True)\n",
    "    atc_data = []\n",
    "    for item in items:\n",
    "        href = item['href']\n",
    "        text = item.get_text(strip=True)\n",
    "        if 'code=' in href:\n",
    "            atc_code = href.split('code=')[1].split('&')[0]\n",
    "            atc_data.append({'Code': atc_code, 'Description': text})\n",
    "    \n",
    "    return pd.DataFrame(atc_data)\n",
    "\n",
    "first = ['A', 'B', 'C', 'D', 'G', 'H','J','L','M','N','P','R','S','V']\n",
    "df_lst = []\n",
    "for group in first:\n",
    "    url = f'https://atcddd.fhi.no/atc_ddd_index/?code={group}&showdescription=no'\n",
    "    df_lst.append(scraping(url))\n",
    "full_atc = pd.concat(df_lst).reset_index(drop=True)\n",
    "\n",
    "to_drop = full_atc[full_atc['Description']=='Show text from Guidelines'].index # Drop redundencies\n",
    "full_atc = full_atc.drop(to_drop).reset_index(drop=True)\n",
    "full_atc[full_atc['Code'].isin(first)]\n",
    "\n",
    "# full_atc.to_csv('atc code.csv')"
   ]
  },
  {
   "cell_type": "markdown",
   "metadata": {},
   "source": [
    "# Data Cleaning and Preparation"
   ]
  },
  {
   "cell_type": "markdown",
   "metadata": {},
   "source": [
    "## Drug Status"
   ]
  },
  {
   "cell_type": "code",
   "execution_count": 7,
   "metadata": {},
   "outputs": [
    {
     "name": "stdout",
     "output_type": "stream",
     "text": [
      "<class 'pandas.core.frame.DataFrame'>\n",
      "RangeIndex: 56459 entries, 0 to 56458\n",
      "Data columns (total 7 columns):\n",
      " #   Column                Non-Null Count  Dtype \n",
      "---  ------                --------------  ----- \n",
      " 0   drug_code             56459 non-null  int64 \n",
      " 1   status                56459 non-null  object\n",
      " 2   history_date          56459 non-null  object\n",
      " 3   original_market_date  47975 non-null  object\n",
      " 4   external_status_code  56459 non-null  int64 \n",
      " 5   expiration_date       4975 non-null   object\n",
      " 6   lot_number            4996 non-null   object\n",
      "dtypes: int64(2), object(5)\n",
      "memory usage: 3.0+ MB\n"
     ]
    }
   ],
   "source": [
    "drug_status = pd.read_csv('Drug Status.csv').drop(columns = ['Unnamed: 0'])\n",
    "drug_status.info()"
   ]
  },
  {
   "cell_type": "code",
   "execution_count": 8,
   "metadata": {},
   "outputs": [],
   "source": [
    "# Correct data type in history_date and original_market_date\n",
    "\n",
    "drug_status['history_date'] = pd.to_datetime(drug_status['history_date'],format = '%Y-%m-%d')\n",
    "drug_status['original_market_date'] = pd.to_datetime(drug_status['original_market_date'],format = '%Y-%m-%d')\n",
    "\n",
    "# Drop expiration_date and lot_number -> they will not be further analyzed\n",
    "drug_status.drop(columns = ['expiration_date', 'lot_number', 'external_status_code'], inplace=True)"
   ]
  },
  {
   "cell_type": "markdown",
   "metadata": {},
   "source": [
    "There are 11 unique drug status which can be roughly grouped into 4 categories:\n",
    "1. Currently Marketed: Marketed, Restricted Access\n",
    "2. Cancelled Post market: Cancelled Post Market, Cancelled (Safety Issue), Cancelled (Unreturned Annual)\n",
    "3. Cancelled Pre market: Cancelled Pre Market, Authorized By Interim Order Revoked, Authorized By Interim Order Expired\n",
    "4. Under Review: Approved, Authorized By Interim Order, Dormant\n",
    "\n",
    "Please refer to [Health Canada Drug Product Database Terminology](https://www.canada.ca/en/health-canada/services/drugs-health-products/drug-products/drug-product-database/terminology.html) to better the reason for the grouping."
   ]
  },
  {
   "cell_type": "code",
   "execution_count": 9,
   "metadata": {},
   "outputs": [
    {
     "data": {
      "text/plain": [
       "status_grouped\n",
       "Cancelled Post Market    33010\n",
       "Currently Marketed       13097\n",
       "Under Review              6922\n",
       "Cancelled Pre Market      3430\n",
       "Name: count, dtype: int64"
      ]
     },
     "execution_count": 9,
     "metadata": {},
     "output_type": "execute_result"
    }
   ],
   "source": [
    "def replace_status(status):\n",
    "    market = ['Marketed', 'Restricted Access']\n",
    "    c_post = ['Cancelled Post Market', 'Cancelled (Safety Issue)', 'Cancelled (Unreturned Annual)']\n",
    "    c_pre = ['Cancelled Pre Market', 'Authorization By Interim Order Revoked', 'Authorization By Interim Order Expired']\n",
    "    review = ['Approved', 'Authorization by Interim Order', 'Dormant']\n",
    "\n",
    "    if status in market:\n",
    "        return 'Currently Marketed'\n",
    "    elif status in c_post:\n",
    "        return 'Cancelled Post Market'\n",
    "    elif status in c_pre:\n",
    "        return 'Cancelled Pre Market'\n",
    "    elif status in review:\n",
    "        return 'Under Review'\n",
    "    else:\n",
    "        return None\n",
    "    \n",
    "drug_status['status_grouped'] = drug_status['status'].apply(replace_status)\n",
    "drug_status['status_grouped'].isna().sum() # Pass\n",
    "drug_status['status_grouped'].value_counts()"
   ]
  },
  {
   "cell_type": "code",
   "execution_count": 10,
   "metadata": {},
   "outputs": [
    {
     "data": {
      "text/plain": [
       "8484"
      ]
     },
     "execution_count": 10,
     "metadata": {},
     "output_type": "execute_result"
    }
   ],
   "source": [
    "drug_status['original_market_date'].isna().sum()"
   ]
  },
  {
   "cell_type": "markdown",
   "metadata": {},
   "source": [
    "Please note that all drugs labelled `Under Review` and `Cancelled Pre Market` are expected to not to have an original market date. However, this is found not to be true. After investigating the dataframe further, it is found that whether or not original market date is missing is not really predictable by looking at the `status` However, this categorization is mostly true as most of the drugs in `Cancelled Post Market` and `Curerntly Marketed` has an original market date, and most of the rest do not. See visualization below. \n",
    "\n",
    "When showing the visualization on Tableau, all drugs with missing original market date will be considered as if they were never put on market. "
   ]
  },
  {
   "cell_type": "code",
   "execution_count": 11,
   "metadata": {},
   "outputs": [
    {
     "data": {
      "image/png": "[encoded data removed]",
      "text/plain": [
       "<Figure size 1000x800 with 2 Axes>"
      ]
     },
     "metadata": {},
     "output_type": "display_data"
    }
   ],
   "source": [
    "fig1, (ax1, ax2) = plt.subplots(nrows = 2, figsize = (10,8))\n",
    "sns.countplot(data=drug_status, y='status', \n",
    "              hue = (drug_status['original_market_date'].isna()), \n",
    "              stat='count', \n",
    "              ax=ax1)\n",
    "\n",
    "ax1.set_ylabel('')\n",
    "\n",
    "sns.countplot(data=drug_status, y='status_grouped', \n",
    "              hue = (drug_status['original_market_date'].isna()), \n",
    "              stat='count', \n",
    "              ax=ax2)\n",
    "\n",
    "ax2.set_ylabel('');"
   ]
  },
  {
   "cell_type": "code",
   "execution_count": 12,
   "metadata": {},
   "outputs": [],
   "source": [
    "# With that, status will be dropped\n",
    "drug_status.drop(columns = 'status', inplace=True)"
   ]
  },
  {
   "cell_type": "markdown",
   "metadata": {},
   "source": [
    "## Drug Product"
   ]
  },
  {
   "cell_type": "code",
   "execution_count": 13,
   "metadata": {},
   "outputs": [
    {
     "name": "stdout",
     "output_type": "stream",
     "text": [
      "<class 'pandas.core.frame.DataFrame'>\n",
      "RangeIndex: 56459 entries, 0 to 56458\n",
      "Data columns (total 9 columns):\n",
      " #   Column                      Non-Null Count  Dtype \n",
      "---  ------                      --------------  ----- \n",
      " 0   drug_code                   56459 non-null  int64 \n",
      " 1   class_name                  56459 non-null  object\n",
      " 2   drug_identification_number  56459 non-null  int64 \n",
      " 3   brand_name                  56459 non-null  object\n",
      " 4   descriptor                  3199 non-null   object\n",
      " 5   number_of_ais               56459 non-null  int64 \n",
      " 6   ai_group_no                 56459 non-null  int64 \n",
      " 7   company_name                56459 non-null  object\n",
      " 8   last_update_date            56459 non-null  object\n",
      "dtypes: int64(4), object(5)\n",
      "memory usage: 3.9+ MB\n"
     ]
    }
   ],
   "source": [
    "drug_product = pd.read_csv('Drug Product.csv').drop(columns = ['Unnamed: 0'])\n",
    "drug_product.info()"
   ]
  },
  {
   "cell_type": "markdown",
   "metadata": {},
   "source": [
    "The following columns will be dropped:\n",
    "\n",
    "1. `descriptor`: contains information about drug formulation, will not be analyzed\n",
    "2. `last_update_date`: `last_update_date` is updated anytime when certain key fields are changed while `history_date` in drug_status is associated with drug's status. In this case, `history_date` will be used as the project focused more on drug status rather than drug formulation. \n",
    "3. `drug_identification_number`: all the dataframes are linked with drug_code, and drug_identification number have duplicates due to different formulation of the drug. "
   ]
  },
  {
   "cell_type": "code",
   "execution_count": 14,
   "metadata": {},
   "outputs": [],
   "source": [
    "# Dropping\n",
    "drug_product.drop(columns=['descriptor', 'last_update_date', 'drug_identification_number'], inplace=True)"
   ]
  },
  {
   "cell_type": "markdown",
   "metadata": {},
   "source": [
    "### Handling ai_group_no and number_of_ais\n",
    "*\"\"\"*  \n",
    "*The AIG number is a 10 digit number that identifies products that have the same active ingredient(s) and ingredient strength(s). The AIG is comprised of three portions:*  \n",
    "\n",
    "*the first portion (2 digits) identifies the number of active ingredients*  \n",
    "*the second portion(5 digits) identifies the unique groups of active ingredients(s);*  \n",
    "*the last portion (3 digits) identifies the active ingredient group strength. The strength group has a tolerance of -2% to +10%.*  \n",
    "*\"\"\"*  \n",
    "\n",
    "<p style=\"text-align: right;\">\n",
    "    <em>Cited from <a href=\"https://www.canada.ca/en/health-canada/services/drugs-health-products/drug-products/drug-product-database/terminology.html\" target=\"_blank\">Health Canada Drug Product Database Terminology</a></em>\n",
    "</p>\n",
    "\n",
    "According to the interpretation of AIG Number, only the second portion of the AIG Number will be kept for the purpose of this project. "
   ]
  },
  {
   "cell_type": "code",
   "execution_count": 15,
   "metadata": {},
   "outputs": [],
   "source": [
    "# Convert ai_group_no into str\n",
    "drug_product['ai_group_no'] = drug_product['ai_group_no'].apply(str)\n",
    "drug_product['number_of_ais'] = drug_product['number_of_ais'].apply(str)\n",
    "def aig_to_aig(aig):\n",
    "    if len(aig) == 9:\n",
    "        return aig[1:6]\n",
    "    elif len(aig) == 10:\n",
    "        return aig[2:7]\n",
    "drug_product['aig'] = drug_product['ai_group_no'].apply(aig_to_aig)\n",
    "\n",
    "# The following returning True indicates that the 5-digit aig number encodes also the information about the number of \n",
    "# However number_of_ais will be kept for later analysis\n",
    "len(drug_product['aig'].unique()) == len((drug_product['aig'] + drug_product['number_of_ais']).unique()) # True\n",
    "\n",
    "drug_product.drop(columns = ['ai_group_no'], inplace=True)"
   ]
  },
  {
   "cell_type": "markdown",
   "metadata": {},
   "source": [
    "Please note that, this project aims to analyze the drugs for human use only. Therefore, after merging, where `class_name` == `Veterinary` OR `Disinfectant` OR `Radiopharmaceutical` will be dropped. "
   ]
  },
  {
   "cell_type": "code",
   "execution_count": 16,
   "metadata": {},
   "outputs": [
    {
     "data": {
      "text/plain": [
       "class_name\n",
       "Human                  49257\n",
       "Disinfectant            3764\n",
       "Veterinary              3276\n",
       "Radiopharmaceutical      162\n",
       "Name: count, dtype: int64"
      ]
     },
     "execution_count": 16,
     "metadata": {},
     "output_type": "execute_result"
    }
   ],
   "source": [
    "drug_product['class_name'].value_counts()"
   ]
  },
  {
   "cell_type": "markdown",
   "metadata": {},
   "source": [
    "## Drug Schedule"
   ]
  },
  {
   "cell_type": "code",
   "execution_count": 17,
   "metadata": {},
   "outputs": [
    {
     "name": "stdout",
     "output_type": "stream",
     "text": [
      "<class 'pandas.core.frame.DataFrame'>\n",
      "RangeIndex: 57225 entries, 0 to 57224\n",
      "Data columns (total 2 columns):\n",
      " #   Column         Non-Null Count  Dtype \n",
      "---  ------         --------------  ----- \n",
      " 0   drug_code      57225 non-null  int64 \n",
      " 1   schedule_name  56893 non-null  object\n",
      "dtypes: int64(1), object(1)\n",
      "memory usage: 894.3+ KB\n"
     ]
    }
   ],
   "source": [
    "drug_schedule = pd.read_csv('Drug Schedule.csv').drop(columns = ['Unnamed: 0'])\n",
    "drug_schedule.info()"
   ]
  },
  {
   "cell_type": "markdown",
   "metadata": {},
   "source": [
    "Given that `drug_status` does not have duplicates in `drug_code`, it is safe to conclude from the above that all drugs with a missing `schedule_name` were not put on market before, or at least the `original_market_date` is missing which will be treated as if they were not put on market. This makes sense as all the drugs that is on market or have been on the market needs to have a schedule for regulatory purpose. \n",
    "\n",
    "However, there is still a lot of drugs with no `original_market_date` with a valid schedule as those schedules are probably assigned before the drug being put on the market. "
   ]
  },
  {
   "cell_type": "code",
   "execution_count": 18,
   "metadata": {},
   "outputs": [
    {
     "data": {
      "text/plain": [
       "True"
      ]
     },
     "execution_count": 18,
     "metadata": {},
     "output_type": "execute_result"
    }
   ],
   "source": [
    "# Note that there is missing values in schedule\n",
    "# It is possible the drug was cancelled before it schedule is established\n",
    "q = drug_schedule[drug_schedule['schedule_name'].isna()]['drug_code'] # pull the drug code where schedule name is missing\n",
    "drug_status[drug_status['drug_code'].isin(q)]['original_market_date'].isna().sum() == len(q) # Check if its original market data is missing"
   ]
  },
  {
   "cell_type": "markdown",
   "metadata": {},
   "source": [
    "The drug schedule can be grouped as following based on four categories mentioned on [National Association of Pharmacy Regulation Authorities(NAPRA) - Drug Schedulign Canada](https://www.napra.ca/national-drug-schedules/drug-scheduling-in-canada/). The presciption drugs are however further divided into prescription (not controlled) and prescription (controlled) to further indicate the level of regulation, which makes 5 categories in total:\n",
    "1. **Homeopathic**: Homeopathic - These products are based on the principles of homeopathy, which is different from modern western medicine. These drugs are generally OTC, but with DIN-HM before their DIN number.   \n",
    "\n",
    "\n",
    "2. **Biologic**: Schedule D, COVID-19 - IO - Authorization - Drugs belong to this category are derived from living organism or their components. For example, insulin if it is made from bacteria. The COVID-19 - IO - Authorization is put here because the 6 drugs with this schedule are biologic. Furthermore, they are all cancelled. \n",
    "\n",
    "\n",
    "3. **Controlled**: Schedule G (CDSA IV), Targeted (CDSA IV), Narcotic (CDSA I), Schedule G (CDSA III), Schedule G (CDSA I), Narcotic (CDSA II), Narcotic, Schedule C - These drugs not only requires prescription but are also strictly regulated by [Controlled Drugs and Substances Act](https://laws-lois.justice.gc.ca/eng/acts/c-38.8/) due to their high potential for misuse of abuse. For example, CDSA I contains mainly opioids and its derivatives as well as other substances with high abuse potential, and CDSA II contains mainly cannabis and its derivatives. \n",
    "\n",
    "\n",
    "4. **Prescription**: Prescription, Prescription Recommended, Ethical - These drugs require prescription but are not controlled by CDSA. \n",
    "\n",
    "\n",
    "5. **Non-Prescription**: OTC - Patients can obtain these drugs easily over the counter with no prescription. \n",
    "\n",
    "Please refer to [Health Canada Drug Product Database Terminology](https://www.canada.ca/en/health-canada/services/drugs-health-products/drug-products/drug-product-database/terminology.html) to better understand each schedule."
   ]
  },
  {
   "cell_type": "code",
   "execution_count": 19,
   "metadata": {},
   "outputs": [],
   "source": [
    "# Group drug schedules\n",
    "def replace_schedule(schedule):\n",
    "    hm = ['Homeopathic']\n",
    "    biologic = ['COVID-19 - IO - Authorization','Schedule D' ]\n",
    "    controlled = ['Targeted (CDSA IV)', 'Schedule G (CDSA IV)', 'Narcotic (CDSA I)', \n",
    "                  'Schedule G (CDSA I)', 'Schedule G (CDSA III)', 'Narcotic (CDSA II)',\n",
    "                  'Schedule C', 'Narcotic']\n",
    "    prescription = ['Prescription', 'Prescription Recommended', 'Ethical']\n",
    "    otc = ['OTC']\n",
    "\n",
    "    if schedule in hm:\n",
    "        return 'Homeopathic'\n",
    "    elif schedule in biologic:\n",
    "        return 'Biologic'\n",
    "    elif schedule in controlled:\n",
    "        return 'Controlled'\n",
    "    elif schedule in prescription:\n",
    "        return 'Prescription'\n",
    "    elif schedule in otc:\n",
    "        return 'OTC'\n",
    "    else:\n",
    "        return None\n",
    "    \n",
    "\n",
    "drug_schedule['schedule'] = drug_schedule['schedule_name'].apply(replace_schedule)\n",
    "drug_schedule['schedule'].isna().sum() # 332 pass\n",
    "drug_schedule.drop(columns = 'schedule_name', inplace=True)"
   ]
  },
  {
   "cell_type": "markdown",
   "metadata": {},
   "source": [
    "### Drop duplicates in drug_code and/or modify schedule\n",
    "Note that there are drug_code with different schedule_name in the original drug_schedule dataframe. After investigation, all the duplicated drug_code belongs to either Prescription or Biologic schedule. For the purpose of this project, Presciption schedule was originally kept, but since the rest of Biologic product are mostly also prescription drugs, Biologic would be kept. "
   ]
  },
  {
   "cell_type": "code",
   "execution_count": 20,
   "metadata": {},
   "outputs": [
    {
     "data": {
      "text/plain": [
       "schedule\n",
       "Biologic        760\n",
       "Prescription    760\n",
       "Name: count, dtype: int64"
      ]
     },
     "execution_count": 20,
     "metadata": {},
     "output_type": "execute_result"
    }
   ],
   "source": [
    "drug_schedule.drop_duplicates(inplace=True) # drop duplicates after regrouping\n",
    "q = drug_schedule['drug_code'].value_counts()[drug_schedule['drug_code'].value_counts()!=1].index\n",
    "drug_schedule[drug_schedule['drug_code'].isin(q)].sort_values('drug_code')['schedule'].value_counts()"
   ]
  },
  {
   "cell_type": "code",
   "execution_count": 21,
   "metadata": {},
   "outputs": [],
   "source": [
    "# Replace Biologic with Prescription\n",
    "drug_schedule.loc[drug_schedule['drug_code'].isin(q), 'schedule'] = 'Biologic'\n",
    "# Drop duplicates\n",
    "drug_schedule.drop_duplicates(inplace=True) # 56459 rows, matching with the shape of the other dataframes"
   ]
  },
  {
   "cell_type": "markdown",
   "metadata": {},
   "source": [
    "## Drug ATC\n",
    "According to [Health Canada - Drug Product Database (DPD) API](https://health-products.canada.ca/api/documentation/dpd-documentation-en.html#a4.4), `tc_ahfs` and `tc_ahfs_number` are no longer available, so these two columns will be dropped. \n",
    "\n",
    "Note that ATC code is assigned according to the mechanism of action rather than therapy. Especially when a drug is approved for more than one indication, only one ATC code would be assigned. Therefore, the final delivery will be based on the current ATC code assignment. However, the mechanism of action can sometimes, but not always, indicate the therapeutic use of a drug. "
   ]
  },
  {
   "cell_type": "code",
   "execution_count": 22,
   "metadata": {},
   "outputs": [],
   "source": [
    "drug_atc = pd.read_csv('Drug Therapeutic Class.csv').drop(columns = ['Unnamed: 0'])\n",
    "atc_name = pd.read_csv('atc code.csv').drop(columns = ['Unnamed: 0'])\n",
    "\n",
    "# Drop tc_ahfs_number and tc_ahfs as they are no longer available\n",
    "drug_atc.drop(columns = ['tc_ahfs_number', 'tc_ahfs'], inplace = True)"
   ]
  },
  {
   "cell_type": "markdown",
   "metadata": {},
   "source": [
    "According to [Health Canada Drug Product Database Terminology](https://www.canada.ca/en/health-canada/services/drugs-health-products/drug-products/drug-product-database/terminology.html), the anatmical therapeutical chemical number can be interpreted as following, using A10BA02 (Metformin) as an example:\n",
    "  \n",
    "1<sup>st</sup> level: anatomical main group - **A**, Alimentary tract and metabolism  \n",
    "2<sup>nd</sup> level: therapeutic subgroup - A**10**, Drugs used in diabetes  \n",
    "3<sup>rd</sup> level: pharmacological subgroup - A10**B**, Blood glucose lowering drugs, excluding insulins  \n",
    "4<sup>th</sup> level: chemical subgroup - A10B**A**, Biguanides  \n",
    "5<sup>th</sup> level: chemical substance - A10BA**02**, Metformin  \n",
    "\n",
    "For the purpose of this project, the `tc_atc_number` will be kept up to **2<sup>nd</sup> level** as it indicates the therapeutic subgroup (the use) of the drug. "
   ]
  },
  {
   "cell_type": "code",
   "execution_count": 23,
   "metadata": {},
   "outputs": [],
   "source": [
    "drug_atc['atc_2nd'] = drug_atc['tc_atc_number'].str[:3]\n",
    "drug_atc['atc_1st'] = drug_atc['tc_atc_number'].str[:1]\n",
    "drug_atc.drop(columns = 'tc_atc_number', inplace=True) # drop tc_atc_number"
   ]
  },
  {
   "cell_type": "code",
   "execution_count": 24,
   "metadata": {},
   "outputs": [],
   "source": [
    "# Merge drug_atc with atc_name to 1st level\n",
    "drug_atc_merged = pd.merge(left = drug_atc, right = atc_name, left_on = 'atc_1st', \n",
    "                           right_on = 'Code', how = 'left').drop(columns='Code')\n",
    "\n",
    "# Note that there are some unexpected missing values\n",
    "# Further investigation shown that the atc number starting with Q are for veterinary use. \n",
    "# These will be dropped\n",
    "# There are two entries with unassigned atc number, these will be correctd\n",
    "q = drug_atc_merged[drug_atc_merged['Description'].isna()]['drug_code']\n",
    "drug_product[drug_product['drug_code'].isin(q)]\n",
    "\n",
    "drug_atc_merged.loc[drug_atc_merged['atc_1st']=='Q', 'Description'] ='Veterinary Use'\n",
    "drug_atc_merged.loc[drug_atc_merged['atc_1st']=='U', 'Description'] ='Unassigned'\n",
    "\n",
    "# Merge drug_atc with atc_name to 2n level \n",
    "drug_atc_merged = pd.merge(left = drug_atc_merged, right = atc_name, left_on = 'atc_2nd', \n",
    "                           right_on = 'Code', how = 'left', \n",
    "                           suffixes = ('_1st', '_2nd')).drop(columns='Code')\n",
    "\n",
    "drug_atc_merged.loc[drug_atc_merged['atc_1st']=='Q', 'Description_2nd'] ='Veterinary Use'\n",
    "drug_atc_merged.loc[drug_atc_merged['atc_1st']=='U', 'Description_2nd'] ='Unassigned'\n"
   ]
  },
  {
   "cell_type": "markdown",
   "metadata": {},
   "source": [
    "It is also noted that not all drugs have been assigned a tc_atc code. This will be handled after the other three dataframe is merged. "
   ]
  },
  {
   "cell_type": "code",
   "execution_count": 25,
   "metadata": {},
   "outputs": [
    {
     "data": {
      "text/plain": [
       "schedule\n",
       "Homeopathic     5570\n",
       "OTC             2689\n",
       "Prescription    1417\n",
       "Controlled       133\n",
       "Biologic          40\n",
       "Name: count, dtype: int64"
      ]
     },
     "execution_count": 25,
     "metadata": {},
     "output_type": "execute_result"
    }
   ],
   "source": [
    "# Example of drug_code in drug_schedule but not in drug_atc\n",
    "q = drug_product[-(drug_product['drug_code'].isin(drug_atc['drug_code']))]['drug_code']\n",
    "drug_schedule[drug_schedule['drug_code'].isin(q)]['schedule'].value_counts()"
   ]
  },
  {
   "cell_type": "markdown",
   "metadata": {},
   "source": [
    "## Dataframe merging and filtering"
   ]
  },
  {
   "cell_type": "code",
   "execution_count": 26,
   "metadata": {},
   "outputs": [],
   "source": [
    "# merge drug product with drug schedule\n",
    "drug_merged_og = pd.merge(left = drug_product, right = drug_schedule, on = 'drug_code', how = 'left')\n",
    "\n",
    "# merge with drug status\n",
    "drug_merged_og = pd.merge(left = drug_merged_og, right = drug_status, on = 'drug_code', how = 'left')\n",
    "\n",
    "# Select only class_name == Human\n",
    "drug_merged = drug_merged_og[drug_merged_og['class_name'] == 'Human'].copy()"
   ]
  },
  {
   "cell_type": "code",
   "execution_count": 27,
   "metadata": {},
   "outputs": [
    {
     "data": {
      "image/png": "[encoded data removed]",
      "text/plain": [
       "<Figure size 1400x600 with 2 Axes>"
      ]
     },
     "metadata": {},
     "output_type": "display_data"
    }
   ],
   "source": [
    "# Investigate why certain drug does not have a atc\n",
    "drug_investigate = drug_merged[drug_merged['drug_code'].isin(q)].copy()\n",
    "\n",
    "fig4, (ax4, ax5) = plt.subplots(ncols = 2, figsize = (14,6))\n",
    "sns.countplot(ax=ax4, data=drug_investigate, x='schedule')\n",
    "ax4.tick_params(axis='x', rotation = 60)\n",
    "ax4.set_xlabel('')\n",
    "ax4.set_ylabel('')\n",
    "ax4.set_title('Distribution Based on Drug Schedule')\n",
    "\n",
    "sns.countplot(ax=ax5, data=drug_investigate, x = 'status_grouped')\n",
    "ax5.tick_params(axis='x', rotation = 60)\n",
    "ax5.set_xlabel('')\n",
    "ax5.set_ylabel('')\n",
    "ax5.set_title('Distribution Based on Drug Status');"
   ]
  },
  {
   "cell_type": "markdown",
   "metadata": {},
   "source": [
    "It is noted that most of the drug products without atc code belong to `Homeopathic` schedule, and most of them are cancelled post market. Further research online showed that after January 1<sup>st</sup>, 2024, natural health products (NHPs) started to be sold under a different category thanks to the establishment of Natural Health Products Regulations. These regulations were impletemented using a staged approach over the course of six years, from January 2004 to January 2010. Therefore, nowadays, all homepathic products are migrated under NHPs and thus therefore, all of the drugs belong to this schedule are cancelled post market. Thus, they will be dropped according to the current regulation.  \n",
    "\n",
    "See [Health Canada: General Questions - Regulation of Natural Health Products](https://www.canada.ca/en/health-canada/services/drugs-health-products/natural-non-prescription/frequently-asked-questions/general-questions-regulation.html) for more information."
   ]
  },
  {
   "cell_type": "code",
   "execution_count": 28,
   "metadata": {},
   "outputs": [],
   "source": [
    "# Remove Homeopathic drugs and update query\n",
    "drug_merged = drug_merged[(drug_merged['schedule']!='Homeopathic')].copy()\n",
    "drug_investigate = drug_merged[drug_merged['drug_code'].isin(q)].copy()"
   ]
  },
  {
   "cell_type": "markdown",
   "metadata": {},
   "source": [
    "Further research showed that drugs with multiple active ingredients are likely to have no atc code as atc code is assigned based on the therapeutic use and chemical classifiation of the compound. "
   ]
  },
  {
   "cell_type": "code",
   "execution_count": 29,
   "metadata": {},
   "outputs": [
    {
     "data": {
      "text/plain": [
       "(558, 10)"
      ]
     },
     "execution_count": 29,
     "metadata": {},
     "output_type": "execute_result"
    }
   ],
   "source": [
    "(drug_investigate['number_of_ais'] != '1').sum()\n",
    "# Turned out not all drugs that is not recorded in drug_atc have more than 1 active compounds \n",
    "# But we can remove those drugs from the list as the reason for missing is found. \n",
    "drug_investigate.drop(drug_investigate[(drug_investigate['number_of_ais'] != '1')].index, inplace = True)\n",
    "drug_investigate.shape # There are still 558 drugs with missing ATC code, and there is no found reasons for that. "
   ]
  },
  {
   "cell_type": "markdown",
   "metadata": {},
   "source": [
    "Due to failure of finding reasons to account for missing ATC codes, where the ATC is missing will be replaced as `Missing`. There is also missing values in `schedule`. With failure of identifying the reason, these entries will unfortunately be dropped. "
   ]
  },
  {
   "cell_type": "code",
   "execution_count": 30,
   "metadata": {},
   "outputs": [],
   "source": [
    "# Merge ATC in + fill in missing by Missing\n",
    "drug_merged_final = pd.merge(left = drug_merged, right = drug_atc_merged, how = 'left', on='drug_code')\n",
    "\n",
    "def fill_na(df, col):\n",
    "    return df[col].fillna('Missing')\n",
    "\n",
    "missing = ['tc_atc', 'atc_2nd','atc_1st', 'Description_1st', 'Description_2nd']\n",
    "for c in missing:\n",
    "    drug_merged_final[c] = fill_na(drug_merged_final, c)\n",
    "\n",
    "# Drop entries with missing schedule \n",
    "drug_merged_final.dropna(subset = 'schedule', inplace=True)"
   ]
  },
  {
   "cell_type": "code",
   "execution_count": 31,
   "metadata": {},
   "outputs": [
    {
     "data": {
      "text/plain": [
       "status_grouped\n",
       "Under Review             3283\n",
       "Cancelled Pre Market     2918\n",
       "Cancelled Post Market     693\n",
       "Currently Marketed          6\n",
       "Name: count, dtype: int64"
      ]
     },
     "execution_count": 31,
     "metadata": {},
     "output_type": "execute_result"
    }
   ],
   "source": [
    "drug_merged_final[drug_merged_final.original_market_date.isna()]['status_grouped'].value_counts()"
   ]
  },
  {
   "cell_type": "markdown",
   "metadata": {},
   "source": [
    "As mentioned before, there are several reasons that can account for a missing `original_market_date` when the drug status is `Cancelled Post Market`. However, for the purpose of this project, all drugs with a missing `original_market_date` will be treated as if they were never available. The only concern would be the 6 drugs that is currently marketed. Among 6 of them, 4 of them were under `Restricted Access`, and therefore, they could be as non-accessible at all time. "
   ]
  },
  {
   "cell_type": "code",
   "execution_count": 32,
   "metadata": {},
   "outputs": [
    {
     "data": {
      "text/html": [
       "<div>\n",
       "<style scoped>\n",
       "    .dataframe tbody tr th:only-of-type {\n",
       "        vertical-align: middle;\n",
       "    }\n",
       "\n",
       "    .dataframe tbody tr th {\n",
       "        vertical-align: top;\n",
       "    }\n",
       "\n",
       "    .dataframe thead th {\n",
       "        text-align: right;\n",
       "    }\n",
       "</style>\n",
       "<table border=\"1\" class=\"dataframe\">\n",
       "  <thead>\n",
       "    <tr style=\"text-align: right;\">\n",
       "      <th></th>\n",
       "      <th>drug_code</th>\n",
       "      <th>class_name</th>\n",
       "      <th>brand_name</th>\n",
       "      <th>number_of_ais</th>\n",
       "      <th>company_name</th>\n",
       "      <th>aig</th>\n",
       "      <th>schedule</th>\n",
       "      <th>history_date</th>\n",
       "      <th>original_market_date</th>\n",
       "      <th>status_grouped</th>\n",
       "      <th>tc_atc</th>\n",
       "      <th>atc_2nd</th>\n",
       "      <th>atc_1st</th>\n",
       "      <th>Description_1st</th>\n",
       "      <th>Description_2nd</th>\n",
       "    </tr>\n",
       "  </thead>\n",
       "  <tbody>\n",
       "    <tr>\n",
       "      <th>25597</th>\n",
       "      <td>78109</td>\n",
       "      <td>Human</td>\n",
       "      <td>CNJ-016</td>\n",
       "      <td>1</td>\n",
       "      <td>EMERGENT BIOSOLUTIONS CANADA INC.</td>\n",
       "      <td>52217</td>\n",
       "      <td>Biologic</td>\n",
       "      <td>2017-09-20</td>\n",
       "      <td>NaT</td>\n",
       "      <td>Currently Marketed</td>\n",
       "      <td>VACCINIA IMMUNOGLOBULIN</td>\n",
       "      <td>J06</td>\n",
       "      <td>J</td>\n",
       "      <td>ANTIINFECTIVES FOR SYSTEMIC USE</td>\n",
       "      <td>IMMUNE SERA AND IMMUNOGLOBULINS</td>\n",
       "    </tr>\n",
       "    <tr>\n",
       "      <th>37210</th>\n",
       "      <td>94692</td>\n",
       "      <td>Human</td>\n",
       "      <td>BAT</td>\n",
       "      <td>7</td>\n",
       "      <td>EMERGENT BIOSOLUTIONS CANADA INC.</td>\n",
       "      <td>58630</td>\n",
       "      <td>Biologic</td>\n",
       "      <td>2017-10-25</td>\n",
       "      <td>NaT</td>\n",
       "      <td>Currently Marketed</td>\n",
       "      <td>BOTULINUM ANTITOXIN</td>\n",
       "      <td>J06</td>\n",
       "      <td>J</td>\n",
       "      <td>ANTIINFECTIVES FOR SYSTEMIC USE</td>\n",
       "      <td>IMMUNE SERA AND IMMUNOGLOBULINS</td>\n",
       "    </tr>\n",
       "    <tr>\n",
       "      <th>37978</th>\n",
       "      <td>95839</td>\n",
       "      <td>Human</td>\n",
       "      <td>ANTHRASIL</td>\n",
       "      <td>1</td>\n",
       "      <td>EMERGENT BIOSOLUTIONS CANADA INC.</td>\n",
       "      <td>59650</td>\n",
       "      <td>Biologic</td>\n",
       "      <td>2018-09-26</td>\n",
       "      <td>NaT</td>\n",
       "      <td>Currently Marketed</td>\n",
       "      <td>ANTHRAX IMMUNOGLOBULIN</td>\n",
       "      <td>J06</td>\n",
       "      <td>J</td>\n",
       "      <td>ANTIINFECTIVES FOR SYSTEMIC USE</td>\n",
       "      <td>IMMUNE SERA AND IMMUNOGLOBULINS</td>\n",
       "    </tr>\n",
       "    <tr>\n",
       "      <th>38265</th>\n",
       "      <td>96286</td>\n",
       "      <td>Human</td>\n",
       "      <td>APO-TELMISARTAN-AMLODIPINE</td>\n",
       "      <td>2</td>\n",
       "      <td>APOTEX INC</td>\n",
       "      <td>52947</td>\n",
       "      <td>Prescription</td>\n",
       "      <td>2023-10-18</td>\n",
       "      <td>NaT</td>\n",
       "      <td>Currently Marketed</td>\n",
       "      <td>TELMISARTAN AND AMLODIPINE</td>\n",
       "      <td>C09</td>\n",
       "      <td>C</td>\n",
       "      <td>CARDIOVASCULAR SYSTEM</td>\n",
       "      <td>AGENTS ACTING ON THE RENIN-ANGIOTENSIN SYSTEM</td>\n",
       "    </tr>\n",
       "    <tr>\n",
       "      <th>38266</th>\n",
       "      <td>96287</td>\n",
       "      <td>Human</td>\n",
       "      <td>APO-TELMISARTAN-AMLODIPINE</td>\n",
       "      <td>2</td>\n",
       "      <td>APOTEX INC</td>\n",
       "      <td>52947</td>\n",
       "      <td>Prescription</td>\n",
       "      <td>2023-10-18</td>\n",
       "      <td>NaT</td>\n",
       "      <td>Currently Marketed</td>\n",
       "      <td>TELMISARTAN AND AMLODIPINE</td>\n",
       "      <td>C09</td>\n",
       "      <td>C</td>\n",
       "      <td>CARDIOVASCULAR SYSTEM</td>\n",
       "      <td>AGENTS ACTING ON THE RENIN-ANGIOTENSIN SYSTEM</td>\n",
       "    </tr>\n",
       "    <tr>\n",
       "      <th>39034</th>\n",
       "      <td>97381</td>\n",
       "      <td>Human</td>\n",
       "      <td>BIOTHRAX</td>\n",
       "      <td>1</td>\n",
       "      <td>EMERGENT BIODEFENSE OPERATIONS LANSING LLC</td>\n",
       "      <td>61010</td>\n",
       "      <td>Biologic</td>\n",
       "      <td>2019-03-20</td>\n",
       "      <td>NaT</td>\n",
       "      <td>Currently Marketed</td>\n",
       "      <td>ANTHRAX ANTIGEN</td>\n",
       "      <td>J07</td>\n",
       "      <td>J</td>\n",
       "      <td>ANTIINFECTIVES FOR SYSTEMIC USE</td>\n",
       "      <td>VACCINES</td>\n",
       "    </tr>\n",
       "  </tbody>\n",
       "</table>\n",
       "</div>"
      ],
      "text/plain": [
       "       drug_code class_name                  brand_name number_of_ais  \\\n",
       "25597      78109      Human                     CNJ-016             1   \n",
       "37210      94692      Human                         BAT             7   \n",
       "37978      95839      Human                   ANTHRASIL             1   \n",
       "38265      96286      Human  APO-TELMISARTAN-AMLODIPINE             2   \n",
       "38266      96287      Human  APO-TELMISARTAN-AMLODIPINE             2   \n",
       "39034      97381      Human                    BIOTHRAX             1   \n",
       "\n",
       "                                     company_name    aig      schedule  \\\n",
       "25597           EMERGENT BIOSOLUTIONS CANADA INC.  52217      Biologic   \n",
       "37210           EMERGENT BIOSOLUTIONS CANADA INC.  58630      Biologic   \n",
       "37978           EMERGENT BIOSOLUTIONS CANADA INC.  59650      Biologic   \n",
       "38265                                  APOTEX INC  52947  Prescription   \n",
       "38266                                  APOTEX INC  52947  Prescription   \n",
       "39034  EMERGENT BIODEFENSE OPERATIONS LANSING LLC  61010      Biologic   \n",
       "\n",
       "      history_date original_market_date      status_grouped  \\\n",
       "25597   2017-09-20                  NaT  Currently Marketed   \n",
       "37210   2017-10-25                  NaT  Currently Marketed   \n",
       "37978   2018-09-26                  NaT  Currently Marketed   \n",
       "38265   2023-10-18                  NaT  Currently Marketed   \n",
       "38266   2023-10-18                  NaT  Currently Marketed   \n",
       "39034   2019-03-20                  NaT  Currently Marketed   \n",
       "\n",
       "                           tc_atc atc_2nd atc_1st  \\\n",
       "25597     VACCINIA IMMUNOGLOBULIN     J06       J   \n",
       "37210         BOTULINUM ANTITOXIN     J06       J   \n",
       "37978      ANTHRAX IMMUNOGLOBULIN     J06       J   \n",
       "38265  TELMISARTAN AND AMLODIPINE     C09       C   \n",
       "38266  TELMISARTAN AND AMLODIPINE     C09       C   \n",
       "39034             ANTHRAX ANTIGEN     J07       J   \n",
       "\n",
       "                       Description_1st  \\\n",
       "25597  ANTIINFECTIVES FOR SYSTEMIC USE   \n",
       "37210  ANTIINFECTIVES FOR SYSTEMIC USE   \n",
       "37978  ANTIINFECTIVES FOR SYSTEMIC USE   \n",
       "38265            CARDIOVASCULAR SYSTEM   \n",
       "38266            CARDIOVASCULAR SYSTEM   \n",
       "39034  ANTIINFECTIVES FOR SYSTEMIC USE   \n",
       "\n",
       "                                     Description_2nd  \n",
       "25597                IMMUNE SERA AND IMMUNOGLOBULINS  \n",
       "37210                IMMUNE SERA AND IMMUNOGLOBULINS  \n",
       "37978                IMMUNE SERA AND IMMUNOGLOBULINS  \n",
       "38265  AGENTS ACTING ON THE RENIN-ANGIOTENSIN SYSTEM  \n",
       "38266  AGENTS ACTING ON THE RENIN-ANGIOTENSIN SYSTEM  \n",
       "39034                                       VACCINES  "
      ]
     },
     "execution_count": 32,
     "metadata": {},
     "output_type": "execute_result"
    }
   ],
   "source": [
    "drug_merged_final[(drug_merged_final.original_market_date.isna())&(drug_merged_final['status_grouped'] == 'Currently Marketed')]"
   ]
  },
  {
   "cell_type": "code",
   "execution_count": 33,
   "metadata": {},
   "outputs": [],
   "source": [
    "drug_merged_final.to_csv('Drug Final.csv')"
   ]
  },
  {
   "cell_type": "code",
   "execution_count": 35,
   "metadata": {},
   "outputs": [
    {
     "name": "stdout",
     "output_type": "stream",
     "text": [
      "<class 'pandas.core.frame.DataFrame'>\n",
      "Index: 43373 entries, 0 to 43685\n",
      "Data columns (total 15 columns):\n",
      " #   Column                Non-Null Count  Dtype         \n",
      "---  ------                --------------  -----         \n",
      " 0   drug_code             43373 non-null  int64         \n",
      " 1   class_name            43373 non-null  object        \n",
      " 2   brand_name            43373 non-null  object        \n",
      " 3   number_of_ais         43373 non-null  object        \n",
      " 4   company_name          43373 non-null  object        \n",
      " 5   aig                   43373 non-null  object        \n",
      " 6   schedule              43373 non-null  object        \n",
      " 7   history_date          43373 non-null  datetime64[ns]\n",
      " 8   original_market_date  36473 non-null  datetime64[ns]\n",
      " 9   status_grouped        43373 non-null  object        \n",
      " 10  tc_atc                43373 non-null  object        \n",
      " 11  atc_2nd               43373 non-null  object        \n",
      " 12  atc_1st               43373 non-null  object        \n",
      " 13  Description_1st       43373 non-null  object        \n",
      " 14  Description_2nd       43373 non-null  object        \n",
      "dtypes: datetime64[ns](2), int64(1), object(12)\n",
      "memory usage: 5.3+ MB\n"
     ]
    }
   ],
   "source": [
    "drug_merged_final.info()"
   ]
  }
 ],
 "metadata": {
  "kernelspec": {
   "display_name": "base",
   "language": "python",
   "name": "python3"
  },
  "language_info": {
   "codemirror_mode": {
    "name": "ipython",
    "version": 3
   },
   "file_extension": ".py",
   "mimetype": "text/x-python",
   "name": "python",
   "nbconvert_exporter": "python",
   "pygments_lexer": "ipython3",
   "version": "3.9.13"
  }
 },
 "nbformat": 4,
 "nbformat_minor": 2
}
